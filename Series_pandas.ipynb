{
 "cells": [
  {
   "cell_type": "code",
   "execution_count": 1,
   "id": "b7198326",
   "metadata": {},
   "outputs": [],
   "source": [
    "import pandas as pd"
   ]
  },
  {
   "cell_type": "code",
   "execution_count": 4,
   "id": "c3a49797",
   "metadata": {},
   "outputs": [],
   "source": [
    "country = ['IND','USA','AUS','SA']\n",
    "cost = [1122.4,4555.33,554.5,566]"
   ]
  },
  {
   "cell_type": "code",
   "execution_count": 5,
   "id": "4da6ce19",
   "metadata": {},
   "outputs": [
    {
     "data": {
      "text/plain": [
       "IND    1122.40\n",
       "USA    4555.33\n",
       "AUS     554.50\n",
       "SA      566.00\n",
       "dtype: float64"
      ]
     },
     "execution_count": 5,
     "metadata": {},
     "output_type": "execute_result"
    }
   ],
   "source": [
    "s1 = pd.Series(cost,index=country)\n",
    "s1"
   ]
  },
  {
   "cell_type": "markdown",
   "id": "94265d64",
   "metadata": {},
   "source": [
    "# with the dictionary"
   ]
  },
  {
   "cell_type": "code",
   "execution_count": 8,
   "id": "977e7e7e",
   "metadata": {},
   "outputs": [],
   "source": [
    "dict1 = {'IND':11,'USA':23,'AUS':2,'SA':1}\n",
    "dict1_s = pd.Series(dict1)"
   ]
  },
  {
   "cell_type": "code",
   "execution_count": 9,
   "id": "d3ef091e",
   "metadata": {},
   "outputs": [
    {
     "data": {
      "text/plain": [
       "IND    11\n",
       "USA    23\n",
       "AUS     2\n",
       "SA      1\n",
       "dtype: int64"
      ]
     },
     "execution_count": 9,
     "metadata": {},
     "output_type": "execute_result"
    }
   ],
   "source": [
    "dict1_s"
   ]
  },
  {
   "cell_type": "code",
   "execution_count": null,
   "id": "876296ef",
   "metadata": {},
   "outputs": [],
   "source": []
  }
 ],
 "metadata": {
  "kernelspec": {
   "display_name": "Python 3 (ipykernel)",
   "language": "python",
   "name": "python3"
  },
  "language_info": {
   "codemirror_mode": {
    "name": "ipython",
    "version": 3
   },
   "file_extension": ".py",
   "mimetype": "text/x-python",
   "name": "python",
   "nbconvert_exporter": "python",
   "pygments_lexer": "ipython3",
   "version": "3.9.12"
  }
 },
 "nbformat": 4,
 "nbformat_minor": 5
}
